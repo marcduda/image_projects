{
  "nbformat": 4,
  "nbformat_minor": 0,
  "metadata": {
    "kernelspec": {
      "name": "python3",
      "display_name": "Python 3"
    },
    "colab": {
      "name": "quotes_generation_for_git.ipynb",
      "provenance": [],
      "include_colab_link": true
    },
    "accelerator": "GPU"
  },
  "cells": [
    {
      "cell_type": "markdown",
      "metadata": {
        "id": "view-in-github",
        "colab_type": "text"
      },
      "source": [
        "<a href=\"https://colab.research.google.com/github/marcduda/various_projects/blob/master/quotes_generation_for_git.ipynb\" target=\"_parent\"><img src=\"https://colab.research.google.com/assets/colab-badge.svg\" alt=\"Open In Colab\"/></a>"
      ]
    },
    {
      "cell_type": "code",
      "metadata": {
        "colab": {
          "base_uri": "https://localhost:8080/"
        },
        "id": "CEH70NzZZGBI",
        "outputId": "48ecfd81-42bc-4105-8a6a-f5f4dfffcc66"
      },
      "source": [
        "# install the libraries for parsing\n",
        "!pip3 install pandas\n",
        "!pip3 install selenium\n",
        "!pip3 install webdriver-manager\n",
        "!pip3 install langdetect"
      ],
      "execution_count": null,
      "outputs": [
        {
          "output_type": "stream",
          "text": [
            "Requirement already satisfied: pandas in /usr/local/lib/python3.6/dist-packages (1.1.4)\n",
            "Requirement already satisfied: python-dateutil>=2.7.3 in /usr/local/lib/python3.6/dist-packages (from pandas) (2.8.1)\n",
            "Requirement already satisfied: pytz>=2017.2 in /usr/local/lib/python3.6/dist-packages (from pandas) (2018.9)\n",
            "Requirement already satisfied: numpy>=1.15.4 in /usr/local/lib/python3.6/dist-packages (from pandas) (1.18.5)\n",
            "Requirement already satisfied: six>=1.5 in /usr/local/lib/python3.6/dist-packages (from python-dateutil>=2.7.3->pandas) (1.15.0)\n",
            "Collecting selenium\n",
            "\u001b[?25l  Downloading https://files.pythonhosted.org/packages/80/d6/4294f0b4bce4de0abf13e17190289f9d0613b0a44e5dd6a7f5ca98459853/selenium-3.141.0-py2.py3-none-any.whl (904kB)\n",
            "\u001b[K     |████████████████████████████████| 911kB 16.8MB/s \n",
            "\u001b[?25hRequirement already satisfied: urllib3 in /usr/local/lib/python3.6/dist-packages (from selenium) (1.24.3)\n",
            "Installing collected packages: selenium\n",
            "Successfully installed selenium-3.141.0\n",
            "Collecting webdriver-manager\n",
            "  Downloading https://files.pythonhosted.org/packages/2a/88/bc1f85fd733cf6bcae3c6e5c86ea124e91c49eb694d47dfef7f37f4394eb/webdriver_manager-3.2.2-py2.py3-none-any.whl\n",
            "Requirement already satisfied: requests in /usr/local/lib/python3.6/dist-packages (from webdriver-manager) (2.23.0)\n",
            "Collecting crayons\n",
            "  Downloading https://files.pythonhosted.org/packages/5b/0d/e3fad4ca1de8e70e06444e7d777a5984261e1db98758b5be3e8296c03fe9/crayons-0.4.0-py2.py3-none-any.whl\n",
            "Collecting configparser\n",
            "  Downloading https://files.pythonhosted.org/packages/08/b2/ef713e0e67f6e7ec7d59aea3ee78d05b39c15930057e724cc6d362a8c3bb/configparser-5.0.1-py3-none-any.whl\n",
            "Requirement already satisfied: urllib3!=1.25.0,!=1.25.1,<1.26,>=1.21.1 in /usr/local/lib/python3.6/dist-packages (from requests->webdriver-manager) (1.24.3)\n",
            "Requirement already satisfied: certifi>=2017.4.17 in /usr/local/lib/python3.6/dist-packages (from requests->webdriver-manager) (2020.11.8)\n",
            "Requirement already satisfied: idna<3,>=2.5 in /usr/local/lib/python3.6/dist-packages (from requests->webdriver-manager) (2.10)\n",
            "Requirement already satisfied: chardet<4,>=3.0.2 in /usr/local/lib/python3.6/dist-packages (from requests->webdriver-manager) (3.0.4)\n",
            "Collecting colorama\n",
            "  Downloading https://files.pythonhosted.org/packages/44/98/5b86278fbbf250d239ae0ecb724f8572af1c91f4a11edf4d36a206189440/colorama-0.4.4-py2.py3-none-any.whl\n",
            "Installing collected packages: colorama, crayons, configparser, webdriver-manager\n",
            "Successfully installed colorama-0.4.4 configparser-5.0.1 crayons-0.4.0 webdriver-manager-3.2.2\n"
          ],
          "name": "stdout"
        }
      ]
    },
    {
      "cell_type": "code",
      "metadata": {
        "scrolled": true,
        "id": "gDCzLlMpZGBL"
      },
      "source": [
        "# launch the parsing with a chrome browser and save the content in a file\n",
        "import random\n",
        "import unicodedata\n",
        "from selenium import webdriver\n",
        "from selenium.webdriver.common.keys import Keys\n",
        "from webdriver_manager.chrome import ChromeDriverManager\n",
        "from time import sleep, strftime\n",
        "from random import randint\n",
        "import pandas as pd\n",
        "webdriver = webdriver.Chrome(ChromeDriverManager().install())\n",
        "\n",
        "total_list_quotes = []\n",
        "\n",
        "for i in range(1,101):\n",
        "    print(i)\n",
        "    webdriver.get('https://www.goodreads.com/quotes/tag/inspirational?page='+str(i))\n",
        "    list_quotes = webdriver.find_elements_by_css_selector(\".quoteText\")\n",
        "    list_quotes = [l.text for l in list_quotes]\n",
        "    list_quotes = [l.split('”\\n―')[0].replace('<br>', '').replace('\\n', ' ') for l in list_quotes]\n",
        "    total_list_quotes += list_quotes\n",
        "    sleep(random.randint(20, 60))\n",
        "\n",
        "quotes_string =''\n",
        "for l in total_list_quotes:\n",
        "    type_string = str(l) + '\\n'\n",
        "    quotes_string+=type_string\n",
        "\n",
        "text_file = open(\"/content/quotes.txt\", \"w\")\n",
        "text_file.write(quotes_string)\n",
        "text_file.close()\n"
      ],
      "execution_count": null,
      "outputs": []
    },
    {
      "cell_type": "code",
      "metadata": {
        "id": "rvpd217oZGBN"
      },
      "source": [
        "# filter the quotes to get only those not too short or not too long and in english only, save again in file\n",
        "from langdetect import detect\n",
        "with open('/content/quotes.txt') as file:\n",
        "    file_contents = file.read()\n",
        "contents = file_contents.split('\\n')\n",
        "total_list = [q.replace(\"”\", \"\").replace(\"“\", \"\") for q in contents \n",
        "              if (len(q.split(\" \"))<=30)&(len(q.split(\" \"))>=5)] \n",
        "total_list = [q for q in total_list if (detect(q)==\"en\")]\n",
        "total_list = list(set(total_list))\n",
        "              \n",
        "total_list[0]\n",
        "quotes_string =''\n",
        "for l in total_list:\n",
        "    type_string = str(l) + '\\n'\n",
        "    quotes_string+=type_string\n",
        "\n",
        "text_file = open(\"/content/short_english_quotes.txt\", \"w\")\n",
        "text_file.write(quotes_string)\n",
        "text_file.close()"
      ],
      "execution_count": null,
      "outputs": []
    },
    {
      "cell_type": "code",
      "metadata": {
        "colab": {
          "base_uri": "https://localhost:8080/"
        },
        "id": "GezfMS-HfFQE",
        "outputId": "99fb7a35-8b54-4cb4-e17a-1e9b157d651f"
      },
      "source": [
        "# user tensorflow V1 for the NLP library, load the gpt_2_simple library\n",
        "%tensorflow_version 1.x\n",
        "!pip install -q gpt-2-simple\n",
        "import gpt_2_simple as gpt2\n",
        "from datetime import datetime\n",
        "from google.colab import files"
      ],
      "execution_count": null,
      "outputs": [
        {
          "output_type": "stream",
          "text": [
            "TensorFlow 1.x selected.\n",
            "WARNING:tensorflow:\n",
            "The TensorFlow contrib module will not be included in TensorFlow 2.0.\n",
            "For more information, please see:\n",
            "  * https://github.com/tensorflow/community/blob/master/rfcs/20180907-contrib-sunset.md\n",
            "  * https://github.com/tensorflow/addons\n",
            "  * https://github.com/tensorflow/io (for I/O related ops)\n",
            "If you depend on functionality not listed there, please file an issue.\n",
            "\n"
          ],
          "name": "stdout"
        }
      ]
    },
    {
      "cell_type": "code",
      "metadata": {
        "id": "41i13BDjf1Or"
      },
      "source": [
        "# launch the finetuning\n",
        "# NB : if this cell fails, the kernel needs to be reloaded before relaunching this cell\n",
        "file_name = '/content/short_english_quotes.txt'\n",
        "sess = gpt2.start_tf_sess()\n",
        "\n",
        "gpt2.finetune(sess,\n",
        "              dataset=file_name,\n",
        "              model_name='/content/124M/124M',\n",
        "              steps=1000,\n",
        "              restore_from='fresh',\n",
        "              run_name='run2',\n",
        "              print_every=10,\n",
        "              sample_every=100,\n",
        "              save_every=100\n",
        "              )"
      ],
      "execution_count": null,
      "outputs": []
    },
    {
      "cell_type": "code",
      "metadata": {
        "colab": {
          "base_uri": "https://localhost:8080/"
        },
        "id": "89WRoaFWZGBN",
        "outputId": "cc46c4cc-c7ef-4bc4-b746-3106e58c4a6f"
      },
      "source": [
        "# mount drive\n",
        "gpt2.mount_gdrive()"
      ],
      "execution_count": null,
      "outputs": [
        {
          "output_type": "stream",
          "text": [
            "Mounted at /content/drive\n"
          ],
          "name": "stdout"
        }
      ]
    },
    {
      "cell_type": "code",
      "metadata": {
        "id": "cgfcLbJzZGBN"
      },
      "source": [
        "# save checkpoints to drive\n",
        "!cp -r checkpoint/ drive/MyDrive"
      ],
      "execution_count": null,
      "outputs": []
    }
  ]
}